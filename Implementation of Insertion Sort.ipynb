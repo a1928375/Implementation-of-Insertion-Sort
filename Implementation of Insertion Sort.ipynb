{
 "cells": [
  {
   "cell_type": "markdown",
   "metadata": {},
   "source": [
    "# Mine"
   ]
  },
  {
   "cell_type": "code",
   "execution_count": 1,
   "metadata": {},
   "outputs": [],
   "source": [
    "def insertion_sort(arr):\n",
    "    \n",
    "    for i in range(1,len(arr)):\n",
    "        \n",
    "        for j in range(i-1, -1, -1):    # j代表sorted list => i是代表要插入的element => j從sorted list的最右elelment\n",
    "                                        # (也就是sorted list的最大element)開始 => j = i-1開始 => j倒著走，直到0 \n",
    "                                        # => 因為要依序檢查新插入的element的大小關係 => if 新插入的element較前一element小 \n",
    "                                        # => shift => 所以底下i = i-1 => i也是倒著走 (i會-1的情形就是有shift) \n",
    "            if arr[i] < arr[j]:\n",
    "                \n",
    "                arr[i], arr[j] = arr[j], arr[i]\n",
    "                \n",
    "                i = i-1\n",
    "    \n",
    "    return arr"
   ]
  },
  {
   "cell_type": "code",
   "execution_count": 2,
   "metadata": {},
   "outputs": [
    {
     "data": {
      "text/plain": [
       "[1, 2, 3, 4, 5, 6, 8, 12, 25, 41]"
      ]
     },
     "execution_count": 2,
     "metadata": {},
     "output_type": "execute_result"
    }
   ],
   "source": [
    "arr =[3,5,4,6,8,1,2,12,41,25]\n",
    "\n",
    "insertion_sort(arr)"
   ]
  },
  {
   "cell_type": "markdown",
   "metadata": {},
   "source": [
    "# Instructor"
   ]
  },
  {
   "cell_type": "code",
   "execution_count": 3,
   "metadata": {},
   "outputs": [],
   "source": [
    "def insertion_sort(arr):\n",
    "\n",
    "    for i in range(1,len(arr)):                   #從1開始比較，因為底下是i-1   &   且i是到len(arr)-1 => 因為是list\n",
    "\n",
    "        currentvalue = arr[i]\n",
    "        \n",
    "        while i > 0 and arr[i-1] > currentvalue:  # if currentvalue比前一格小 => shift => 一直到currentvalue比前一格大\n",
    "                                                  # => 插入currentvalue\n",
    "            arr[i] = arr[i-1]\n",
    "            i = i-1\n",
    "\n",
    "        arr[i] = currentvalue\n",
    "        \n",
    "    return (arr)\n"
   ]
  },
  {
   "cell_type": "code",
   "execution_count": 4,
   "metadata": {},
   "outputs": [
    {
     "data": {
      "text/plain": [
       "[1, 2, 3, 4, 5, 6, 8, 12, 25, 41]"
      ]
     },
     "execution_count": 4,
     "metadata": {},
     "output_type": "execute_result"
    }
   ],
   "source": [
    "arr =[3,5,4,6,8,1,2,12,41,25]\n",
    "insertion_sort(arr)"
   ]
  }
 ],
 "metadata": {
  "kernelspec": {
   "display_name": "Python 3",
   "language": "python",
   "name": "python3"
  },
  "language_info": {
   "codemirror_mode": {
    "name": "ipython",
    "version": 3
   },
   "file_extension": ".py",
   "mimetype": "text/x-python",
   "name": "python",
   "nbconvert_exporter": "python",
   "pygments_lexer": "ipython3",
   "version": "3.7.3"
  }
 },
 "nbformat": 4,
 "nbformat_minor": 2
}
